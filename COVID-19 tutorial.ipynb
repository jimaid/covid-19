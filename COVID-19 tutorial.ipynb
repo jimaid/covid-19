{
 "cells": [
  {
   "cell_type": "markdown",
   "id": "accomplished-latest",
   "metadata": {},
   "source": [
    "# Intro\n",
    "This is a covid-19 tutorial notebook. I will be performing some exploratory Data Analysis oon realtime data on COVID-19 from John Hopkins University. By doing that, I will expand the base of my understanding on some of Python's analytics tools while teaching people who are interested in learining those same tools.\n",
    "\n",
    "Let's go!"
   ]
  },
  {
   "cell_type": "code",
   "execution_count": null,
   "id": "infrared-marble",
   "metadata": {},
   "outputs": [],
   "source": []
  }
 ],
 "metadata": {
  "kernelspec": {
   "display_name": "Python 3",
   "language": "python",
   "name": "python3"
  },
  "language_info": {
   "codemirror_mode": {
    "name": "ipython",
    "version": 3
   },
   "file_extension": ".py",
   "mimetype": "text/x-python",
   "name": "python",
   "nbconvert_exporter": "python",
   "pygments_lexer": "ipython3",
   "version": "3.7.10"
  }
 },
 "nbformat": 4,
 "nbformat_minor": 5
}
