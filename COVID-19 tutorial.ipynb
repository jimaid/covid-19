{
 "cells": [
  {
   "cell_type": "markdown",
   "id": "accomplished-latest",
   "metadata": {},
   "source": [
    "# Intro\n",
    "This is a covid-19 tutorial notebook. I will be performing some exploratory Data Analysis oon realtime data on COVID-19 from John Hopkins University. By doing that, I will expand the base of my understanding on some of Python's analytics tools while teaching people who are interested in learining those same tools.\n",
    "\n",
    "This is a beginner friendly project that will cover data analysis with pandas and data visualization with matplotlib and maybe seaborn. \n",
    "\n",
    "Let's go!"
   ]
  },
  {
   "cell_type": "code",
   "execution_count": 10,
   "id": "infrared-marble",
   "metadata": {},
   "outputs": [],
   "source": [
    "import pandas as pd\n",
    "import numpy as np\n",
    "from matplotlib import pyplot as plt\n",
    "import seaborn as sns\n",
    "import matplotlib.dates as mdates\n",
    "plt.style.use('fivethirtyeight')\n",
    "%matplotlib inline"
   ]
  },
  {
   "cell_type": "code",
   "execution_count": 2,
   "id": "favorite-accessory",
   "metadata": {},
   "outputs": [
    {
     "data": {
      "text/html": [
       "<div>\n",
       "<style scoped>\n",
       "    .dataframe tbody tr th:only-of-type {\n",
       "        vertical-align: middle;\n",
       "    }\n",
       "\n",
       "    .dataframe tbody tr th {\n",
       "        vertical-align: top;\n",
       "    }\n",
       "\n",
       "    .dataframe thead th {\n",
       "        text-align: right;\n",
       "    }\n",
       "</style>\n",
       "<table border=\"1\" class=\"dataframe\">\n",
       "  <thead>\n",
       "    <tr style=\"text-align: right;\">\n",
       "      <th></th>\n",
       "      <th>Date</th>\n",
       "      <th>Country</th>\n",
       "      <th>Confirmed</th>\n",
       "      <th>Recovered</th>\n",
       "      <th>Deaths</th>\n",
       "    </tr>\n",
       "  </thead>\n",
       "  <tbody>\n",
       "    <tr>\n",
       "      <th>28439</th>\n",
       "      <td>2020-02-26</td>\n",
       "      <td>El Salvador</td>\n",
       "      <td>0</td>\n",
       "      <td>0</td>\n",
       "      <td>0</td>\n",
       "    </tr>\n",
       "    <tr>\n",
       "      <th>27897</th>\n",
       "      <td>2020-02-10</td>\n",
       "      <td>Egypt</td>\n",
       "      <td>0</td>\n",
       "      <td>0</td>\n",
       "      <td>0</td>\n",
       "    </tr>\n",
       "    <tr>\n",
       "      <th>91144</th>\n",
       "      <td>2020-06-16</td>\n",
       "      <td>Tajikistan</td>\n",
       "      <td>5160</td>\n",
       "      <td>3624</td>\n",
       "      <td>50</td>\n",
       "    </tr>\n",
       "    <tr>\n",
       "      <th>95498</th>\n",
       "      <td>2020-11-09</td>\n",
       "      <td>US</td>\n",
       "      <td>10208150</td>\n",
       "      <td>3928845</td>\n",
       "      <td>240297</td>\n",
       "    </tr>\n",
       "    <tr>\n",
       "      <th>2885</th>\n",
       "      <td>2020-10-03</td>\n",
       "      <td>Antigua and Barbuda</td>\n",
       "      <td>107</td>\n",
       "      <td>96</td>\n",
       "      <td>3</td>\n",
       "    </tr>\n",
       "  </tbody>\n",
       "</table>\n",
       "</div>"
      ],
      "text/plain": [
       "            Date              Country  Confirmed  Recovered  Deaths\n",
       "28439 2020-02-26          El Salvador          0          0       0\n",
       "27897 2020-02-10                Egypt          0          0       0\n",
       "91144 2020-06-16           Tajikistan       5160       3624      50\n",
       "95498 2020-11-09                   US   10208150    3928845  240297\n",
       "2885  2020-10-03  Antigua and Barbuda        107         96       3"
      ]
     },
     "execution_count": 2,
     "metadata": {},
     "output_type": "execute_result"
    }
   ],
   "source": [
    "df = pd.read_csv(\"https://raw.githubusercontent.com/datasets/covid-19/main/data/countries-aggregated.csv\", parse_dates=['Date'])\n",
    "df.sample(5)"
   ]
  },
  {
   "cell_type": "code",
   "execution_count": 3,
   "id": "jewish-faculty",
   "metadata": {},
   "outputs": [
    {
     "data": {
      "text/html": [
       "<div>\n",
       "<style scoped>\n",
       "    .dataframe tbody tr th:only-of-type {\n",
       "        vertical-align: middle;\n",
       "    }\n",
       "\n",
       "    .dataframe tbody tr th {\n",
       "        vertical-align: top;\n",
       "    }\n",
       "\n",
       "    .dataframe thead th {\n",
       "        text-align: right;\n",
       "    }\n",
       "</style>\n",
       "<table border=\"1\" class=\"dataframe\">\n",
       "  <thead>\n",
       "    <tr style=\"text-align: right;\">\n",
       "      <th></th>\n",
       "      <th>Date</th>\n",
       "      <th>Country</th>\n",
       "      <th>Confirmed</th>\n",
       "      <th>Recovered</th>\n",
       "      <th>Deaths</th>\n",
       "      <th>Total Cases</th>\n",
       "    </tr>\n",
       "  </thead>\n",
       "  <tbody>\n",
       "    <tr>\n",
       "      <th>4079</th>\n",
       "      <td>2021-02-22</td>\n",
       "      <td>Armenia</td>\n",
       "      <td>170506</td>\n",
       "      <td>162098</td>\n",
       "      <td>3167</td>\n",
       "      <td>335771</td>\n",
       "    </tr>\n",
       "    <tr>\n",
       "      <th>91473</th>\n",
       "      <td>2021-05-11</td>\n",
       "      <td>Tajikistan</td>\n",
       "      <td>13308</td>\n",
       "      <td>13218</td>\n",
       "      <td>90</td>\n",
       "      <td>26616</td>\n",
       "    </tr>\n",
       "    <tr>\n",
       "      <th>24772</th>\n",
       "      <td>2020-03-12</td>\n",
       "      <td>Denmark</td>\n",
       "      <td>617</td>\n",
       "      <td>1</td>\n",
       "      <td>0</td>\n",
       "      <td>618</td>\n",
       "    </tr>\n",
       "    <tr>\n",
       "      <th>38807</th>\n",
       "      <td>2021-03-06</td>\n",
       "      <td>Guyana</td>\n",
       "      <td>8772</td>\n",
       "      <td>8106</td>\n",
       "      <td>200</td>\n",
       "      <td>17078</td>\n",
       "    </tr>\n",
       "    <tr>\n",
       "      <th>91414</th>\n",
       "      <td>2021-03-13</td>\n",
       "      <td>Tajikistan</td>\n",
       "      <td>13308</td>\n",
       "      <td>13218</td>\n",
       "      <td>90</td>\n",
       "      <td>26616</td>\n",
       "    </tr>\n",
       "  </tbody>\n",
       "</table>\n",
       "</div>"
      ],
      "text/plain": [
       "            Date     Country  Confirmed  Recovered  Deaths  Total Cases\n",
       "4079  2021-02-22     Armenia     170506     162098    3167       335771\n",
       "91473 2021-05-11  Tajikistan      13308      13218      90        26616\n",
       "24772 2020-03-12     Denmark        617          1       0          618\n",
       "38807 2021-03-06      Guyana       8772       8106     200        17078\n",
       "91414 2021-03-13  Tajikistan      13308      13218      90        26616"
      ]
     },
     "execution_count": 3,
     "metadata": {},
     "output_type": "execute_result"
    }
   ],
   "source": [
    "df['Total Cases'] = df[['Confirmed','Recovered','Deaths']].sum(axis=1)\n",
    "df.sample(5)"
   ]
  },
  {
   "cell_type": "code",
   "execution_count": 6,
   "id": "polished-albuquerque",
   "metadata": {},
   "outputs": [
    {
     "data": {
      "text/html": [
       "<div>\n",
       "<style scoped>\n",
       "    .dataframe tbody tr th:only-of-type {\n",
       "        vertical-align: middle;\n",
       "    }\n",
       "\n",
       "    .dataframe tbody tr th {\n",
       "        vertical-align: top;\n",
       "    }\n",
       "\n",
       "    .dataframe thead th {\n",
       "        text-align: right;\n",
       "    }\n",
       "</style>\n",
       "<table border=\"1\" class=\"dataframe\">\n",
       "  <thead>\n",
       "    <tr style=\"text-align: right;\">\n",
       "      <th></th>\n",
       "      <th>Confirmed</th>\n",
       "      <th>Recovered</th>\n",
       "      <th>Deaths</th>\n",
       "      <th>Total Cases</th>\n",
       "    </tr>\n",
       "    <tr>\n",
       "      <th>Date</th>\n",
       "      <th></th>\n",
       "      <th></th>\n",
       "      <th></th>\n",
       "      <th></th>\n",
       "    </tr>\n",
       "  </thead>\n",
       "  <tbody>\n",
       "    <tr>\n",
       "      <th>2020-01-22</th>\n",
       "      <td>557</td>\n",
       "      <td>30</td>\n",
       "      <td>17</td>\n",
       "      <td>604</td>\n",
       "    </tr>\n",
       "    <tr>\n",
       "      <th>2020-01-23</th>\n",
       "      <td>655</td>\n",
       "      <td>32</td>\n",
       "      <td>18</td>\n",
       "      <td>705</td>\n",
       "    </tr>\n",
       "    <tr>\n",
       "      <th>2020-01-24</th>\n",
       "      <td>941</td>\n",
       "      <td>39</td>\n",
       "      <td>26</td>\n",
       "      <td>1006</td>\n",
       "    </tr>\n",
       "    <tr>\n",
       "      <th>2020-01-25</th>\n",
       "      <td>1433</td>\n",
       "      <td>42</td>\n",
       "      <td>42</td>\n",
       "      <td>1517</td>\n",
       "    </tr>\n",
       "    <tr>\n",
       "      <th>2020-01-26</th>\n",
       "      <td>2118</td>\n",
       "      <td>56</td>\n",
       "      <td>56</td>\n",
       "      <td>2230</td>\n",
       "    </tr>\n",
       "  </tbody>\n",
       "</table>\n",
       "</div>"
      ],
      "text/plain": [
       "            Confirmed  Recovered  Deaths  Total Cases\n",
       "Date                                                 \n",
       "2020-01-22        557         30      17          604\n",
       "2020-01-23        655         32      18          705\n",
       "2020-01-24        941         39      26         1006\n",
       "2020-01-25       1433         42      42         1517\n",
       "2020-01-26       2118         56      56         2230"
      ]
     },
     "execution_count": 6,
     "metadata": {},
     "output_type": "execute_result"
    }
   ],
   "source": [
    "worldwide = df.groupby(['Date']).sum()\n",
    "worldwide.head()"
   ]
  },
  {
   "cell_type": "code",
   "execution_count": 11,
   "id": "august-internship",
   "metadata": {},
   "outputs": [
    {
     "data": {
      "image/png": "[encoded data removed]",
      "text/plain": [
       "<Figure size 576x720 with 1 Axes>"
      ]
     },
     "metadata": {
      "needs_background": "light"
     },
     "output_type": "display_data"
    }
   ],
   "source": [
    "w = worldwide.plot(figsize=(8,10))\n",
    "w.set_xlabel('Date')\n",
    "w.set_ylabel('Number of cases')\n",
    "w.title.set_text('Covid 19 cases growth')\n",
    "\n",
    "plt.show()"
   ]
  },
  {
   "cell_type": "code",
   "execution_count": 15,
   "id": "employed-education",
   "metadata": {},
   "outputs": [
    {
     "data": {
      "text/html": [
       "<div>\n",
       "<style scoped>\n",
       "    .dataframe tbody tr th:only-of-type {\n",
       "        vertical-align: middle;\n",
       "    }\n",
       "\n",
       "    .dataframe tbody tr th {\n",
       "        vertical-align: top;\n",
       "    }\n",
       "\n",
       "    .dataframe thead th {\n",
       "        text-align: right;\n",
       "    }\n",
       "</style>\n",
       "<table border=\"1\" class=\"dataframe\">\n",
       "  <thead>\n",
       "    <tr style=\"text-align: right;\">\n",
       "      <th></th>\n",
       "      <th>Confirmed</th>\n",
       "      <th>Recovered</th>\n",
       "      <th>Deaths</th>\n",
       "      <th>Total Cases</th>\n",
       "    </tr>\n",
       "    <tr>\n",
       "      <th>Date</th>\n",
       "      <th></th>\n",
       "      <th></th>\n",
       "      <th></th>\n",
       "      <th></th>\n",
       "    </tr>\n",
       "  </thead>\n",
       "  <tbody>\n",
       "    <tr>\n",
       "      <th>2021-06-26</th>\n",
       "      <td>95259</td>\n",
       "      <td>93148</td>\n",
       "      <td>794</td>\n",
       "      <td>189201</td>\n",
       "    </tr>\n",
       "    <tr>\n",
       "      <th>2021-06-27</th>\n",
       "      <td>95369</td>\n",
       "      <td>93212</td>\n",
       "      <td>795</td>\n",
       "      <td>189376</td>\n",
       "    </tr>\n",
       "    <tr>\n",
       "      <th>2021-06-28</th>\n",
       "      <td>95476</td>\n",
       "      <td>93269</td>\n",
       "      <td>795</td>\n",
       "      <td>189540</td>\n",
       "    </tr>\n",
       "    <tr>\n",
       "      <th>2021-06-29</th>\n",
       "      <td>95642</td>\n",
       "      <td>93288</td>\n",
       "      <td>795</td>\n",
       "      <td>189725</td>\n",
       "    </tr>\n",
       "    <tr>\n",
       "      <th>2021-06-30</th>\n",
       "      <td>95914</td>\n",
       "      <td>93444</td>\n",
       "      <td>796</td>\n",
       "      <td>190154</td>\n",
       "    </tr>\n",
       "  </tbody>\n",
       "</table>\n",
       "</div>"
      ],
      "text/plain": [
       "            Confirmed  Recovered  Deaths  Total Cases\n",
       "Date                                                 \n",
       "2021-06-26      95259      93148     794       189201\n",
       "2021-06-27      95369      93212     795       189376\n",
       "2021-06-28      95476      93269     795       189540\n",
       "2021-06-29      95642      93288     795       189725\n",
       "2021-06-30      95914      93444     796       190154"
      ]
     },
     "execution_count": 15,
     "metadata": {},
     "output_type": "execute_result"
    }
   ],
   "source": [
    "Ghana = df[df['Country']=='Ghana'].groupby(['Date']).sum()\n",
    "Ghana.tail()"
   ]
  },
  {
   "cell_type": "code",
   "execution_count": 16,
   "id": "clean-retailer",
   "metadata": {},
   "outputs": [
    {
     "data": {
      "image/png": "[encoded data removed]",
      "text/plain": [
       "<Figure size 576x720 with 1 Axes>"
      ]
     },
     "metadata": {
      "needs_background": "light"
     },
     "output_type": "display_data"
    }
   ],
   "source": [
    "fig = plt.figure(figsize=(8,10))\n",
    "\n",
    "ax=fig.add_subplot(111)\n",
    "ax.plot(worldwide['Total Cases'], label='Worldwide')\n",
    "ax.plot(Ghana['Total Cases'], label='Ghana')\n",
    "\n",
    "ax.set_xlabel('Date')\n",
    "ax.set_ylabel('Number of cases')\n",
    "ax.title.set_text('Covid 19 cases growth')\n",
    "\n",
    "plt.legend('Upper left')\n",
    "plt.show()"
   ]
  },
  {
   "cell_type": "code",
   "execution_count": null,
   "id": "daily-advance",
   "metadata": {},
   "outputs": [],
   "source": []
  }
 ],
 "metadata": {
  "kernelspec": {
   "display_name": "Python 3",
   "language": "python",
   "name": "python3"
  },
  "language_info": {
   "codemirror_mode": {
    "name": "ipython",
    "version": 3
   },
   "file_extension": ".py",
   "mimetype": "text/x-python",
   "name": "python",
   "nbconvert_exporter": "python",
   "pygments_lexer": "ipython3",
   "version": "3.7.10"
  }
 },
 "nbformat": 4,
 "nbformat_minor": 5
}
